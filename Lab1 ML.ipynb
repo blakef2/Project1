{
 "cells": [
  {
   "cell_type": "code",
   "execution_count": 3,
   "metadata": {},
   "outputs": [],
   "source": [
    "import numpy as np\n",
    "import matplotlib.pyplot as plt\n",
    "import pandas as pd\n",
    "import seaborn as sns\n",
    "import statsmodels as sm"
   ]
  },
  {
   "cell_type": "code",
   "execution_count": 4,
   "metadata": {},
   "outputs": [],
   "source": [
    "bank_db_df = pd.read_csv(\"C:Desktop/Machine Learning I/Lab 1 Assignment/credit_card_default.csv\")"
   ]
  },
  {
   "cell_type": "code",
   "execution_count": 5,
   "metadata": {},
   "outputs": [
    {
     "name": "stdout",
     "output_type": "stream",
     "text": [
      "ID           int64\n",
      "LIMIT_BAL    int64\n",
      "SEX          int64\n",
      "EDUCATION    int64\n",
      "MARRIAGE     int64\n",
      "AGE          int64\n",
      "PAY_0        int64\n",
      "PAY_2        int64\n",
      "PAY_3        int64\n",
      "PAY_4        int64\n",
      "PAY_5        int64\n",
      "PAY_6        int64\n",
      "BILL_AMT1    int64\n",
      "BILL_AMT2    int64\n",
      "BILL_AMT3    int64\n",
      "BILL_AMT4    int64\n",
      "BILL_AMT5    int64\n",
      "BILL_AMT6    int64\n",
      "PAY_AMT1     int64\n",
      "PAY_AMT2     int64\n",
      "PAY_AMT3     int64\n",
      "PAY_AMT4     int64\n",
      "PAY_AMT5     int64\n",
      "PAY_AMT6     int64\n",
      "Default      int64\n",
      "dtype: object\n"
     ]
    }
   ],
   "source": [
    "print (bank_db_df.dtypes)"
   ]
  },
  {
   "cell_type": "code",
   "execution_count": 6,
   "metadata": {},
   "outputs": [
    {
     "name": "stdout",
     "output_type": "stream",
     "text": [
      "SEX\n",
      "1    11888\n",
      "2    18112\n",
      "Name: ID, dtype: int64\n",
      "EDUCATION\n",
      "0       14\n",
      "1    10585\n",
      "2    14030\n",
      "3     4917\n",
      "4      123\n",
      "5      280\n",
      "6       51\n",
      "Name: ID, dtype: int64\n",
      "MARRIAGE\n",
      "0       54\n",
      "1    13659\n",
      "2    15964\n",
      "3      323\n",
      "Name: ID, dtype: int64\n",
      "Default\n",
      "0    23364\n",
      "1     6636\n",
      "Name: ID, dtype: int64\n"
     ]
    }
   ],
   "source": [
    "# Gender (1 = male; 2 = female) \n",
    "Gender = bank_db_df.groupby('SEX')['ID'].nunique()\n",
    "# Education (1 = graduate school; 2 = university; 3 = high school; 4 = others)\n",
    "EDUCATION = bank_db_df.groupby('EDUCATION')['ID'].nunique()\n",
    "# Marital status (1 = married; 2 = single; 3 = others)\n",
    "MARRIAGE = bank_db_df.groupby('MARRIAGE')['ID'].nunique()\n",
    "#Default Payment 1=Yes; 2=No\n",
    "Default = bank_db_df.groupby('Default')['ID'].nunique()\n",
    "\n",
    "print(Gender)\n",
    "print(EDUCATION)\n",
    "print(MARRIAGE)\n",
    "print(Default)"
   ]
  },
  {
   "cell_type": "code",
   "execution_count": 7,
   "metadata": {},
   "outputs": [],
   "source": [
    "# Cleaning the Data on Unrepresented Variables\n",
    "#Since both Education and Marrage have a others catagory we decided to include the vaules to in the other catagory since \n",
    "# we can not state the meaning of these.\n",
    "\n",
    "bank_db_df['EDUCATION'] = bank_db_df['EDUCATION'].replace([0,5,6],4)\n",
    "\n",
    "\n",
    "bank_db_df['MARRIAGE'] = bank_db_df['MARRIAGE'].replace([0],3)\n",
    "\n",
    "#bank_db_df.EDUCATION.unique()\n",
    "#bank_db_df.MARRIAGE.unique()"
   ]
  },
  {
   "cell_type": "code",
   "execution_count": 8,
   "metadata": {},
   "outputs": [
    {
     "data": {
      "text/plain": [
       "22.12"
      ]
     },
     "execution_count": 8,
     "metadata": {},
     "output_type": "execute_result"
    }
   ],
   "source": [
    "#Calculate % accounts that Defaulted (Default=1)\n",
    "len(bank_db_df[bank_db_df.Default==1])/len(bank_db_df)*100\n"
   ]
  },
  {
   "cell_type": "code",
   "execution_count": 9,
   "metadata": {},
   "outputs": [
    {
     "data": {
      "text/plain": [
       "77.88"
      ]
     },
     "execution_count": 9,
     "metadata": {},
     "output_type": "execute_result"
    }
   ],
   "source": [
    "#Calculate % accounts that Did NOT Defaulted (Default=0)\n",
    "round((len(bank_db_df[bank_db_df.Default==0])/len(bank_db_df)*100),2)"
   ]
  },
  {
   "cell_type": "code",
   "execution_count": 29,
   "metadata": {},
   "outputs": [],
   "source": [
    "#Create dataset with only default accounts\n",
    "Default_accts = bank_db_df[bank_db_df['Default']==1]\n",
    "\n",
    "#Create dataset for Non-Default accounts\n",
    "NonD_accts = bank_db_df[bank_db_df['Default']==0]"
   ]
  },
  {
   "cell_type": "markdown",
   "metadata": {},
   "source": [
    "Citation: Drew, Jake M. “Jakemdrew/DataMiningNotebooks.” GitHub, 11 Aug. 2011, github.com/jakemdrew/DataMiningNotebooks/blob/master/02.%20DataVisualization.ipynb. "
   ]
  },
  {
   "cell_type": "code",
   "execution_count": 11,
   "metadata": {},
   "outputs": [
    {
     "name": "stdout",
     "output_type": "stream",
     "text": [
      "Total in Group who Defaulted:\n",
      "SEX  EDUCATION  MARRIAGE\n",
      "1    1          1            390\n",
      "                2            506\n",
      "                3             10\n",
      "     2          1            643\n",
      "                2            746\n",
      "                3             19\n",
      "     3          1            303\n",
      "                2            229\n",
      "                3             13\n",
      "     4          1             10\n",
      "                2              4\n",
      "2    1          1            379\n",
      "                2            748\n",
      "                3              3\n",
      "     2          1           1023\n",
      "                2            873\n",
      "                3             26\n",
      "     3          1            451\n",
      "                2            223\n",
      "                3             18\n",
      "     4          1              7\n",
      "                2             12\n",
      "Name: Default, dtype: int64\n",
      "---------------------------------------------------\n",
      "Percentage of the Group who Defaulted:\n",
      "SEX  EDUCATION  MARRIAGE\n",
      "1    1          1           1.300\n",
      "                2           1.687\n",
      "                3           0.033\n",
      "     2          1           2.143\n",
      "                2           2.487\n",
      "                3           0.063\n",
      "     3          1           1.010\n",
      "                2           0.763\n",
      "                3           0.043\n",
      "     4          1           0.033\n",
      "                2           0.013\n",
      "2    1          1           1.263\n",
      "                2           2.493\n",
      "                3           0.010\n",
      "     2          1           3.410\n",
      "                2           2.910\n",
      "                3           0.087\n",
      "     3          1           1.503\n",
      "                2           0.743\n",
      "                3           0.060\n",
      "     4          1           0.023\n",
      "                2           0.040\n",
      "Name: Default, dtype: float64\n"
     ]
    }
   ],
   "source": [
    "#Aggregate Default column by Categorical Variables (SEX,EDUCATION,MARRIAGE)\n",
    "Cat_group = Default_accts.groupby(by=['SEX','EDUCATION','MARRIAGE'])\n",
    "\n",
    "print ('Total in Group who Defaulted:')\n",
    "print (Cat_group.Default.count())\n",
    "print ('---------------------------------------------------')\n",
    "print ('Percentage of the Group who Defaulted:')\n",
    "print (round((Cat_group.Default.sum()/bank_db_df.Default.count()*100),3)) #group percentage of total default amount which equals 22.12"
   ]
  },
  {
   "cell_type": "markdown",
   "metadata": {},
   "source": [
    "Of all the accounts in the dataset, 22.12% defaulted (6636 total accounts). The 3.41% of married females with a university eductation who defaulted makes up the largest percentage of the defaulted group at 15.42%, while single females with a university are the second highest group to default(2.91%) accounting for 13.15% of the defaults, followed by the single female with a graduate school education default rate of 2.49% to account for 11.26% of total defaults.  \n",
    "\n",
    "The 0.013% of the single males with an \"other\" education group that defaulted makes up the smallest portion of the defaulted group at 5.877e-4%, second is the married females with an \"other\" education group who default rate is 0.023%, followed by a tie for the third lowest default rate at 0.033% between graduated educated males with an \"other\" martial status and married males with an \"other\" education.  \n",
    "\n",
    "\n",
    "Citation: Drew, Jake M. “Jakemdrew/DataMiningNotebooks.” GitHub, 11 Aug. 2011, github.com/jakemdrew/DataMiningNotebooks/blob/master/02.%20DataVisualization.ipynb. "
   ]
  },
  {
   "cell_type": "code",
   "execution_count": 32,
   "metadata": {},
   "outputs": [
    {
     "name": "stdout",
     "output_type": "stream",
     "text": [
      "            SEX  EDUCATION  MARRIAGE       AGE   LIMIT_BAL\n",
      "count  30000.00   30000.00  30000.00  30000.00    30000.00\n",
      "mean       1.60       1.84      1.56     35.49   167484.32\n",
      "std        0.49       0.74      0.52      9.22   129747.66\n",
      "min        1.00       1.00      1.00     21.00    10000.00\n",
      "25%        1.00       1.00      1.00     28.00    50000.00\n",
      "50%        2.00       2.00      2.00     34.00   140000.00\n",
      "75%        2.00       2.00      2.00     41.00   240000.00\n",
      "max        2.00       4.00      3.00     79.00  1000000.00\n",
      "Median values for AGE and LIMIT_BAL\n",
      "SEX               2.0\n",
      "EDUCATION         2.0\n",
      "MARRIAGE          2.0\n",
      "AGE              34.0\n",
      "LIMIT_BAL    140000.0\n",
      "dtype: float64\n",
      "------------------------------------------------------\n",
      "AGE and Limit Balance on Defaulted accounts\n",
      "          SEX  EDUCATION  MARRIAGE     AGE  LIMIT_BAL\n",
      "count  6636.0     6636.0    6636.0  6636.0     6636.0\n",
      "mean      2.0        2.0       2.0    36.0   130110.0\n",
      "std       0.0        1.0       1.0    10.0   115379.0\n",
      "min       1.0        1.0       1.0    21.0    10000.0\n",
      "25%       1.0        1.0       1.0    28.0    50000.0\n",
      "50%       2.0        2.0       2.0    34.0    90000.0\n",
      "75%       2.0        2.0       2.0    42.0   200000.0\n",
      "max       2.0        4.0       3.0    75.0   740000.0 2\n",
      "Median values\n",
      "SEX              2.0\n",
      "EDUCATION        2.0\n",
      "MARRIAGE         2.0\n",
      "AGE             34.0\n",
      "LIMIT_BAL    90000.0\n",
      "dtype: float64\n",
      "------------------------------------------------------\n",
      "AGE and Limit Balance on Non-Defaulted accounts\n",
      "            SEX  EDUCATION  MARRIAGE       AGE   LIMIT_BAL\n",
      "count  23364.00   23364.00  23364.00  23364.00    23364.00\n",
      "mean       1.61       1.83      1.56     35.42   178099.73\n",
      "std        0.49       0.75      0.52      9.08   131628.36\n",
      "min        1.00       1.00      1.00     21.00    10000.00\n",
      "25%        1.00       1.00      1.00     28.00    70000.00\n",
      "50%        2.00       2.00      2.00     34.00   150000.00\n",
      "75%        2.00       2.00      2.00     41.00   250000.00\n",
      "max        2.00       4.00      3.00     79.00  1000000.00\n",
      "SEX               2.0\n",
      "EDUCATION         2.0\n",
      "MARRIAGE          2.0\n",
      "AGE              34.0\n",
      "LIMIT_BAL    150000.0\n",
      "dtype: float64\n"
     ]
    }
   ],
   "source": [
    "#Create summary statistics\n",
    "df_sub = bank_db_df[['SEX','EDUCATION','MARRIAGE','AGE','LIMIT_BAL']]\n",
    "df_subd = Default_accts[['SEX','EDUCATION','MARRIAGE','AGE','LIMIT_BAL']]\n",
    "df_subnond = NonD_accts[['SEX','EDUCATION','MARRIAGE','AGE','LIMIT_BAL']]\n",
    "\n",
    "print (round(df_sub.describe(),2))\n",
    "print ('Median values for AGE and LIMIT_BAL')\n",
    "print (df_sub.median())\n",
    "print('------------------------------------------------------')\n",
    "print('AGE and Limit Balance on Defaulted accounts')\n",
    "print (round(df_subd.describe()),2)\n",
    "print ('Median values')\n",
    "print (df_subd.median())\n",
    "print('------------------------------------------------------')\n",
    "print('AGE and Limit Balance on Non-Defaulted accounts')\n",
    "print (round(df_subnond.describe(),2))\n",
    "print (df_subnond.median())"
   ]
  },
  {
   "cell_type": "code",
   "execution_count": 13,
   "metadata": {},
   "outputs": [
    {
     "data": {
      "text/plain": [
       "(0.0, 85.0)"
      ]
     },
     "execution_count": 13,
     "metadata": {},
     "output_type": "execute_result"
    },
    {
     "data": {
      "image/png": "[encoded data removed]",
      "text/plain": [
       "<Figure size 432x288 with 1 Axes>"
      ]
     },
     "metadata": {
      "needs_background": "light"
     },
     "output_type": "display_data"
    }
   ],
   "source": [
    "#Create a boxplot for the summary statistics for the categorical variables based on AGE\n",
    "age_bplt = sns.boxplot(x=\"Default\",y=\"AGE\",hue=\"SEX\",data=bank_db_df,\n",
    "                      width=.5,)\n",
    "age_bplt.set_ylim([0,85]) #set the y-axis range"
   ]
  },
  {
   "cell_type": "markdown",
   "metadata": {},
   "source": [
    "Citation: “Seaborn Boxplot.” Seaborn Boxplot - Python Tutorial \n",
    "\n",
    "Citation: Waskom, Michael. “Seaborn.boxplot¶.” Seaborn.boxplot - Seaborn 0.11.1 Documentation, Sept. 2020, seaborn.pydata.org/generated/seaborn.boxplot.html. "
   ]
  },
  {
   "cell_type": "code",
   "execution_count": 26,
   "metadata": {},
   "outputs": [
    {
     "data": {
      "text/plain": [
       "(0.0, 900000.0)"
      ]
     },
     "execution_count": 26,
     "metadata": {},
     "output_type": "execute_result"
    },
    {
     "data": {
      "image/png": "[encoded data removed]",
      "text/plain": [
       "<Figure size 432x288 with 1 Axes>"
      ]
     },
     "metadata": {
      "needs_background": "light"
     },
     "output_type": "display_data"
    }
   ],
   "source": [
    "#Create a boxplot for the summary statistics for the categorical variables based on Limit Balance\n",
    "LIMBAL_bplt = sns.boxplot(x=\"Default\",y=\"LIMIT_BAL\",hue=\"SEX\",data=bank_db_df,\n",
    "                      width=.80)\n",
    "LIMBAL_bplt.set_ylim([0,900000])#set the y-axis range"
   ]
  },
  {
   "cell_type": "markdown",
   "metadata": {},
   "source": [
    "The does appear to be heavy skewness towards old customers and higher limit balances for both sexes. The median Age, Education, and Marriage status are the same for the total group and the filtered dataset with just defaulted accounts. When grouping by SEX, the average for males appear to be higher(see boxplot above) than the average female no matter the default status. \n",
    "\n",
    "However, the median limit balance of $140,000 is higher than the $90,000 median limit balance for the defaulted group. Contrary to the average age between the two sex, the average limit balance for females is higher than males no matter the default status.  "
   ]
  },
  {
   "cell_type": "code",
   "execution_count": 15,
   "metadata": {},
   "outputs": [
    {
     "name": "stderr",
     "output_type": "stream",
     "text": [
      "E:\\Anaconda3\\envs\\ML-7331 py3-7\\lib\\site-packages\\seaborn\\categorical.py:3714: UserWarning: The `factorplot` function has been renamed to `catplot`. The original name will be removed in a future release. Please update your code. Note that the default `kind` in `factorplot` (`'point'`) has changed `'strip'` in `catplot`.\n",
      "  warnings.warn(msg)\n"
     ]
    },
    {
     "data": {
      "text/plain": [
       "<seaborn.axisgrid.FacetGrid at 0x2b8b7e50948>"
      ]
     },
     "execution_count": 15,
     "metadata": {},
     "output_type": "execute_result"
    },
    {
     "data": {
      "image/png": "[encoded data removed]",
      "text/plain": [
       "<Figure size 764.75x360 with 2 Axes>"
      ]
     },
     "metadata": {
      "needs_background": "light"
     },
     "output_type": "display_data"
    }
   ],
   "source": [
    "#Barchart for Sex, Education, and Marriage Grouped by Default\n",
    "sns.factorplot(x='EDUCATION',y='AGE',hue='Default', col='SEX',\n",
    "              kind='bar',data=bank_db_df)"
   ]
  }
 ],
 "metadata": {
  "kernelspec": {
   "display_name": "Python [conda env:ML-7331 py3-7]",
   "language": "python",
   "name": "conda-env-ML-7331_py3-7-py"
  },
  "language_info": {
   "codemirror_mode": {
    "name": "ipython",
    "version": 3
   },
   "file_extension": ".py",
   "mimetype": "text/x-python",
   "name": "python",
   "nbconvert_exporter": "python",
   "pygments_lexer": "ipython3",
   "version": "3.7.9"
  }
 },
 "nbformat": 4,
 "nbformat_minor": 4
}
